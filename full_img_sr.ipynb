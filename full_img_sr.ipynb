{
 "cells": [
  {
   "cell_type": "code",
   "execution_count": 1,
   "id": "5db4ee26-a6eb-4a79-8b9a-02432e681a16",
   "metadata": {},
   "outputs": [],
   "source": [
    "import torch\n",
    "import torch.nn as nn\n",
    "from torchvision import transforms\n",
    "import numpy as np\n",
    "import matplotlib.pyplot as plt\n",
    "import matplotlib.cm as cm\n",
    "from tqdm.auto import tqdm\n",
    "from skimage.metrics import peak_signal_noise_ratio\n",
    "from IPython import display\n",
    "from sr_model import CNNSuperResolutionModel, VGGLoss\n",
    "import cv2"
   ]
  },
  {
   "cell_type": "code",
   "execution_count": 2,
   "id": "6e0ba7e2-03e8-43b3-8edf-ae3f47675886",
   "metadata": {},
   "outputs": [
    {
     "data": {
      "text/plain": [
       "<All keys matched successfully>"
      ]
     },
     "execution_count": 2,
     "metadata": {},
     "output_type": "execute_result"
    }
   ],
   "source": [
    "model = CNNSuperResolutionModel().cuda()\n",
    "model.load_state_dict(torch.load('model.pt'))"
   ]
  },
  {
   "cell_type": "code",
   "execution_count": 6,
   "id": "0c443606-ae7b-436b-a61a-deef4aa29a4c",
   "metadata": {},
   "outputs": [
    {
     "name": "stdout",
     "output_type": "stream",
     "text": [
      "(1419, 1672, 3)\n"
     ]
    },
    {
     "data": {
      "application/vnd.jupyter.widget-view+json": {
       "model_id": "b54869c18d6249c9b473f353893fc8df",
       "version_major": 2,
       "version_minor": 0
      },
      "text/plain": [
       "  0%|          | 0/6 [00:00<?, ?it/s]"
      ]
     },
     "metadata": {},
     "output_type": "display_data"
    },
    {
     "data": {
      "text/plain": [
       "True"
      ]
     },
     "execution_count": 6,
     "metadata": {},
     "output_type": "execute_result"
    }
   ],
   "source": [
    "img = cv2.imread(\"urban_dataset_15cm/1.png\")\n",
    "\n",
    "print(img.shape)\n",
    "\n",
    "img_copy = img.copy()\n",
    "\n",
    "y_chan = cv2.cvtColor(img, cv2.COLOR_BGR2YCR_CB)[:, :, 0] #Y channel\n",
    "\n",
    "blur_kernel = np.genfromtxt('PSF_E10x2.csv', delimiter=';')\n",
    "\n",
    "blur_y_chann = cv2.filter2D(y_chan, -1, blur_kernel)\n",
    "\n",
    "width, height = y_chan.shape\n",
    "\n",
    "chunk_size = 256\n",
    "\n",
    "num_chunks_x = height // chunk_size\n",
    "num_chunks_y = width // chunk_size\n",
    "\n",
    "\n",
    "for i in tqdm(range(num_chunks_x)):\n",
    "    for j in range(num_chunks_y):\n",
    "\n",
    "        left = i * chunk_size\n",
    "        top = j * chunk_size\n",
    "        right = left + chunk_size\n",
    "        bottom = top + chunk_size\n",
    "        \n",
    "        hr_patch = y_chan[top:bottom, left:right]\n",
    "        blur_patch = cv2.filter2D(hr_patch, -1, blur_kernel)\n",
    "        \n",
    "        y_hat = model(transforms.ToTensor()(blur_patch).cuda().unsqueeze(0)).squeeze(0)\n",
    "        \n",
    "        img_copy[top:bottom, left:right, 0] = y_hat.cpu().detach().numpy()\n",
    "\n",
    "cv2.imwrite(\"urban_dataset_15cm/1_sr.png\", img_copy)\n",
    "        \n",
    "        \n",
    "        \n",
    "        "
   ]
  },
  {
   "cell_type": "code",
   "execution_count": null,
   "id": "2cb03bc2-5eab-4d7a-a656-100b5247a251",
   "metadata": {},
   "outputs": [],
   "source": []
  }
 ],
 "metadata": {
  "kernelspec": {
   "display_name": "Python 3 (ipykernel)",
   "language": "python",
   "name": "python3"
  },
  "language_info": {
   "codemirror_mode": {
    "name": "ipython",
    "version": 3
   },
   "file_extension": ".py",
   "mimetype": "text/x-python",
   "name": "python",
   "nbconvert_exporter": "python",
   "pygments_lexer": "ipython3",
   "version": "3.9.16"
  }
 },
 "nbformat": 4,
 "nbformat_minor": 5
}
